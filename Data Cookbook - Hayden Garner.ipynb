{
 "cells": [
  {
   "cell_type": "code",
   "execution_count": 55,
   "id": "d8bfd393",
   "metadata": {},
   "outputs": [],
   "source": [
    "import requests\n",
    "import json\n",
    "import pandas as pd\n",
    "import matplotlib.pyplot as plt"
   ]
  },
  {
   "cell_type": "markdown",
   "id": "4081598f",
   "metadata": {},
   "source": [
    "# RECIPE 1: Getting a visual of all represented data in a column using pd.values_counts()"
   ]
  },
  {
   "cell_type": "code",
   "execution_count": 56,
   "id": "976d5e89",
   "metadata": {},
   "outputs": [
    {
     "data": {
      "text/html": [
       "<div>\n",
       "<style scoped>\n",
       "    .dataframe tbody tr th:only-of-type {\n",
       "        vertical-align: middle;\n",
       "    }\n",
       "\n",
       "    .dataframe tbody tr th {\n",
       "        vertical-align: top;\n",
       "    }\n",
       "\n",
       "    .dataframe thead th {\n",
       "        text-align: right;\n",
       "    }\n",
       "</style>\n",
       "<table border=\"1\" class=\"dataframe\">\n",
       "  <thead>\n",
       "    <tr style=\"text-align: right;\">\n",
       "      <th></th>\n",
       "      <th>DR_NO</th>\n",
       "      <th>Date Rptd</th>\n",
       "      <th>DATE OCC</th>\n",
       "      <th>TIME OCC</th>\n",
       "      <th>AREA</th>\n",
       "      <th>AREA NAME</th>\n",
       "      <th>Rpt Dist No</th>\n",
       "      <th>Part 1-2</th>\n",
       "      <th>Crm Cd</th>\n",
       "      <th>Crm Cd Desc</th>\n",
       "      <th>...</th>\n",
       "      <th>Status</th>\n",
       "      <th>Status Desc</th>\n",
       "      <th>Crm Cd 1</th>\n",
       "      <th>Crm Cd 2</th>\n",
       "      <th>Crm Cd 3</th>\n",
       "      <th>Crm Cd 4</th>\n",
       "      <th>LOCATION</th>\n",
       "      <th>Cross Street</th>\n",
       "      <th>LAT</th>\n",
       "      <th>LON</th>\n",
       "    </tr>\n",
       "  </thead>\n",
       "  <tbody>\n",
       "    <tr>\n",
       "      <th>0</th>\n",
       "      <td>10304468</td>\n",
       "      <td>01/08/2020 12:00:00 AM</td>\n",
       "      <td>01/08/2020 12:00:00 AM</td>\n",
       "      <td>2230</td>\n",
       "      <td>3</td>\n",
       "      <td>Southwest</td>\n",
       "      <td>377</td>\n",
       "      <td>2</td>\n",
       "      <td>624</td>\n",
       "      <td>BATTERY - SIMPLE ASSAULT</td>\n",
       "      <td>...</td>\n",
       "      <td>AO</td>\n",
       "      <td>Adult Other</td>\n",
       "      <td>624.0</td>\n",
       "      <td>NaN</td>\n",
       "      <td>NaN</td>\n",
       "      <td>NaN</td>\n",
       "      <td>1100 W  39TH                         PL</td>\n",
       "      <td>NaN</td>\n",
       "      <td>34.0141</td>\n",
       "      <td>-118.2978</td>\n",
       "    </tr>\n",
       "    <tr>\n",
       "      <th>1</th>\n",
       "      <td>190101086</td>\n",
       "      <td>01/02/2020 12:00:00 AM</td>\n",
       "      <td>01/01/2020 12:00:00 AM</td>\n",
       "      <td>330</td>\n",
       "      <td>1</td>\n",
       "      <td>Central</td>\n",
       "      <td>163</td>\n",
       "      <td>2</td>\n",
       "      <td>624</td>\n",
       "      <td>BATTERY - SIMPLE ASSAULT</td>\n",
       "      <td>...</td>\n",
       "      <td>IC</td>\n",
       "      <td>Invest Cont</td>\n",
       "      <td>624.0</td>\n",
       "      <td>NaN</td>\n",
       "      <td>NaN</td>\n",
       "      <td>NaN</td>\n",
       "      <td>700 S  HILL                         ST</td>\n",
       "      <td>NaN</td>\n",
       "      <td>34.0459</td>\n",
       "      <td>-118.2545</td>\n",
       "    </tr>\n",
       "    <tr>\n",
       "      <th>2</th>\n",
       "      <td>200110444</td>\n",
       "      <td>04/14/2020 12:00:00 AM</td>\n",
       "      <td>02/13/2020 12:00:00 AM</td>\n",
       "      <td>1200</td>\n",
       "      <td>1</td>\n",
       "      <td>Central</td>\n",
       "      <td>155</td>\n",
       "      <td>2</td>\n",
       "      <td>845</td>\n",
       "      <td>SEX OFFENDER REGISTRANT OUT OF COMPLIANCE</td>\n",
       "      <td>...</td>\n",
       "      <td>AA</td>\n",
       "      <td>Adult Arrest</td>\n",
       "      <td>845.0</td>\n",
       "      <td>NaN</td>\n",
       "      <td>NaN</td>\n",
       "      <td>NaN</td>\n",
       "      <td>200 E  6TH                          ST</td>\n",
       "      <td>NaN</td>\n",
       "      <td>34.0448</td>\n",
       "      <td>-118.2474</td>\n",
       "    </tr>\n",
       "    <tr>\n",
       "      <th>3</th>\n",
       "      <td>191501505</td>\n",
       "      <td>01/01/2020 12:00:00 AM</td>\n",
       "      <td>01/01/2020 12:00:00 AM</td>\n",
       "      <td>1730</td>\n",
       "      <td>15</td>\n",
       "      <td>N Hollywood</td>\n",
       "      <td>1543</td>\n",
       "      <td>2</td>\n",
       "      <td>745</td>\n",
       "      <td>VANDALISM - MISDEAMEANOR ($399 OR UNDER)</td>\n",
       "      <td>...</td>\n",
       "      <td>IC</td>\n",
       "      <td>Invest Cont</td>\n",
       "      <td>745.0</td>\n",
       "      <td>998.0</td>\n",
       "      <td>NaN</td>\n",
       "      <td>NaN</td>\n",
       "      <td>5400    CORTEEN                      PL</td>\n",
       "      <td>NaN</td>\n",
       "      <td>34.1685</td>\n",
       "      <td>-118.4019</td>\n",
       "    </tr>\n",
       "    <tr>\n",
       "      <th>4</th>\n",
       "      <td>191921269</td>\n",
       "      <td>01/01/2020 12:00:00 AM</td>\n",
       "      <td>01/01/2020 12:00:00 AM</td>\n",
       "      <td>415</td>\n",
       "      <td>19</td>\n",
       "      <td>Mission</td>\n",
       "      <td>1998</td>\n",
       "      <td>2</td>\n",
       "      <td>740</td>\n",
       "      <td>VANDALISM - FELONY ($400 &amp; OVER, ALL CHURCH VA...</td>\n",
       "      <td>...</td>\n",
       "      <td>IC</td>\n",
       "      <td>Invest Cont</td>\n",
       "      <td>740.0</td>\n",
       "      <td>NaN</td>\n",
       "      <td>NaN</td>\n",
       "      <td>NaN</td>\n",
       "      <td>14400    TITUS                        ST</td>\n",
       "      <td>NaN</td>\n",
       "      <td>34.2198</td>\n",
       "      <td>-118.4468</td>\n",
       "    </tr>\n",
       "    <tr>\n",
       "      <th>...</th>\n",
       "      <td>...</td>\n",
       "      <td>...</td>\n",
       "      <td>...</td>\n",
       "      <td>...</td>\n",
       "      <td>...</td>\n",
       "      <td>...</td>\n",
       "      <td>...</td>\n",
       "      <td>...</td>\n",
       "      <td>...</td>\n",
       "      <td>...</td>\n",
       "      <td>...</td>\n",
       "      <td>...</td>\n",
       "      <td>...</td>\n",
       "      <td>...</td>\n",
       "      <td>...</td>\n",
       "      <td>...</td>\n",
       "      <td>...</td>\n",
       "      <td>...</td>\n",
       "      <td>...</td>\n",
       "      <td>...</td>\n",
       "      <td>...</td>\n",
       "    </tr>\n",
       "    <tr>\n",
       "      <th>708079</th>\n",
       "      <td>230804266</td>\n",
       "      <td>01/08/2023 12:00:00 AM</td>\n",
       "      <td>01/08/2023 12:00:00 AM</td>\n",
       "      <td>1030</td>\n",
       "      <td>8</td>\n",
       "      <td>West LA</td>\n",
       "      <td>839</td>\n",
       "      <td>1</td>\n",
       "      <td>341</td>\n",
       "      <td>THEFT-GRAND ($950.01 &amp; OVER)EXCPT,GUNS,FOWL,LI...</td>\n",
       "      <td>...</td>\n",
       "      <td>IC</td>\n",
       "      <td>Invest Cont</td>\n",
       "      <td>341.0</td>\n",
       "      <td>NaN</td>\n",
       "      <td>NaN</td>\n",
       "      <td>NaN</td>\n",
       "      <td>10200    SANTA MONICA                 BL</td>\n",
       "      <td>NaN</td>\n",
       "      <td>34.0611</td>\n",
       "      <td>-118.4184</td>\n",
       "    </tr>\n",
       "    <tr>\n",
       "      <th>708080</th>\n",
       "      <td>231604807</td>\n",
       "      <td>01/27/2023 12:00:00 AM</td>\n",
       "      <td>01/26/2023 12:00:00 AM</td>\n",
       "      <td>1800</td>\n",
       "      <td>16</td>\n",
       "      <td>Foothill</td>\n",
       "      <td>1663</td>\n",
       "      <td>2</td>\n",
       "      <td>740</td>\n",
       "      <td>VANDALISM - FELONY ($400 &amp; OVER, ALL CHURCH VA...</td>\n",
       "      <td>...</td>\n",
       "      <td>IC</td>\n",
       "      <td>Invest Cont</td>\n",
       "      <td>740.0</td>\n",
       "      <td>NaN</td>\n",
       "      <td>NaN</td>\n",
       "      <td>NaN</td>\n",
       "      <td>12500    BRANFORD                     ST</td>\n",
       "      <td>NaN</td>\n",
       "      <td>34.2466</td>\n",
       "      <td>-118.4054</td>\n",
       "    </tr>\n",
       "    <tr>\n",
       "      <th>708081</th>\n",
       "      <td>231606525</td>\n",
       "      <td>03/22/2023 12:00:00 AM</td>\n",
       "      <td>03/22/2023 12:00:00 AM</td>\n",
       "      <td>1000</td>\n",
       "      <td>16</td>\n",
       "      <td>Foothill</td>\n",
       "      <td>1602</td>\n",
       "      <td>1</td>\n",
       "      <td>230</td>\n",
       "      <td>ASSAULT WITH DEADLY WEAPON, AGGRAVATED ASSAULT</td>\n",
       "      <td>...</td>\n",
       "      <td>IC</td>\n",
       "      <td>Invest Cont</td>\n",
       "      <td>230.0</td>\n",
       "      <td>NaN</td>\n",
       "      <td>NaN</td>\n",
       "      <td>NaN</td>\n",
       "      <td>12800    FILMORE                      ST</td>\n",
       "      <td>NaN</td>\n",
       "      <td>34.2790</td>\n",
       "      <td>-118.4116</td>\n",
       "    </tr>\n",
       "    <tr>\n",
       "      <th>708082</th>\n",
       "      <td>231210064</td>\n",
       "      <td>04/12/2023 12:00:00 AM</td>\n",
       "      <td>04/12/2023 12:00:00 AM</td>\n",
       "      <td>1630</td>\n",
       "      <td>12</td>\n",
       "      <td>77th Street</td>\n",
       "      <td>1239</td>\n",
       "      <td>1</td>\n",
       "      <td>230</td>\n",
       "      <td>ASSAULT WITH DEADLY WEAPON, AGGRAVATED ASSAULT</td>\n",
       "      <td>...</td>\n",
       "      <td>IC</td>\n",
       "      <td>Invest Cont</td>\n",
       "      <td>230.0</td>\n",
       "      <td>NaN</td>\n",
       "      <td>NaN</td>\n",
       "      <td>NaN</td>\n",
       "      <td>6100 S  VERMONT                      AV</td>\n",
       "      <td>NaN</td>\n",
       "      <td>33.9841</td>\n",
       "      <td>-118.2915</td>\n",
       "    </tr>\n",
       "    <tr>\n",
       "      <th>708083</th>\n",
       "      <td>230906458</td>\n",
       "      <td>03/05/2023 12:00:00 AM</td>\n",
       "      <td>03/05/2023 12:00:00 AM</td>\n",
       "      <td>900</td>\n",
       "      <td>9</td>\n",
       "      <td>Van Nuys</td>\n",
       "      <td>914</td>\n",
       "      <td>2</td>\n",
       "      <td>745</td>\n",
       "      <td>VANDALISM - MISDEAMEANOR ($399 OR UNDER)</td>\n",
       "      <td>...</td>\n",
       "      <td>IC</td>\n",
       "      <td>Invest Cont</td>\n",
       "      <td>745.0</td>\n",
       "      <td>NaN</td>\n",
       "      <td>NaN</td>\n",
       "      <td>NaN</td>\n",
       "      <td>14500    HARTLAND                     ST</td>\n",
       "      <td>NaN</td>\n",
       "      <td>34.1951</td>\n",
       "      <td>-118.4487</td>\n",
       "    </tr>\n",
       "  </tbody>\n",
       "</table>\n",
       "<p>708084 rows × 28 columns</p>\n",
       "</div>"
      ],
      "text/plain": [
       "            DR_NO               Date Rptd                DATE OCC  TIME OCC  \\\n",
       "0        10304468  01/08/2020 12:00:00 AM  01/08/2020 12:00:00 AM      2230   \n",
       "1       190101086  01/02/2020 12:00:00 AM  01/01/2020 12:00:00 AM       330   \n",
       "2       200110444  04/14/2020 12:00:00 AM  02/13/2020 12:00:00 AM      1200   \n",
       "3       191501505  01/01/2020 12:00:00 AM  01/01/2020 12:00:00 AM      1730   \n",
       "4       191921269  01/01/2020 12:00:00 AM  01/01/2020 12:00:00 AM       415   \n",
       "...           ...                     ...                     ...       ...   \n",
       "708079  230804266  01/08/2023 12:00:00 AM  01/08/2023 12:00:00 AM      1030   \n",
       "708080  231604807  01/27/2023 12:00:00 AM  01/26/2023 12:00:00 AM      1800   \n",
       "708081  231606525  03/22/2023 12:00:00 AM  03/22/2023 12:00:00 AM      1000   \n",
       "708082  231210064  04/12/2023 12:00:00 AM  04/12/2023 12:00:00 AM      1630   \n",
       "708083  230906458  03/05/2023 12:00:00 AM  03/05/2023 12:00:00 AM       900   \n",
       "\n",
       "        AREA    AREA NAME  Rpt Dist No  Part 1-2  Crm Cd  \\\n",
       "0          3    Southwest          377         2     624   \n",
       "1          1      Central          163         2     624   \n",
       "2          1      Central          155         2     845   \n",
       "3         15  N Hollywood         1543         2     745   \n",
       "4         19      Mission         1998         2     740   \n",
       "...      ...          ...          ...       ...     ...   \n",
       "708079     8      West LA          839         1     341   \n",
       "708080    16     Foothill         1663         2     740   \n",
       "708081    16     Foothill         1602         1     230   \n",
       "708082    12  77th Street         1239         1     230   \n",
       "708083     9     Van Nuys          914         2     745   \n",
       "\n",
       "                                              Crm Cd Desc  ... Status  \\\n",
       "0                                BATTERY - SIMPLE ASSAULT  ...     AO   \n",
       "1                                BATTERY - SIMPLE ASSAULT  ...     IC   \n",
       "2               SEX OFFENDER REGISTRANT OUT OF COMPLIANCE  ...     AA   \n",
       "3                VANDALISM - MISDEAMEANOR ($399 OR UNDER)  ...     IC   \n",
       "4       VANDALISM - FELONY ($400 & OVER, ALL CHURCH VA...  ...     IC   \n",
       "...                                                   ...  ...    ...   \n",
       "708079  THEFT-GRAND ($950.01 & OVER)EXCPT,GUNS,FOWL,LI...  ...     IC   \n",
       "708080  VANDALISM - FELONY ($400 & OVER, ALL CHURCH VA...  ...     IC   \n",
       "708081     ASSAULT WITH DEADLY WEAPON, AGGRAVATED ASSAULT  ...     IC   \n",
       "708082     ASSAULT WITH DEADLY WEAPON, AGGRAVATED ASSAULT  ...     IC   \n",
       "708083           VANDALISM - MISDEAMEANOR ($399 OR UNDER)  ...     IC   \n",
       "\n",
       "         Status Desc Crm Cd 1 Crm Cd 2  Crm Cd 3 Crm Cd 4  \\\n",
       "0        Adult Other    624.0      NaN       NaN      NaN   \n",
       "1        Invest Cont    624.0      NaN       NaN      NaN   \n",
       "2       Adult Arrest    845.0      NaN       NaN      NaN   \n",
       "3        Invest Cont    745.0    998.0       NaN      NaN   \n",
       "4        Invest Cont    740.0      NaN       NaN      NaN   \n",
       "...              ...      ...      ...       ...      ...   \n",
       "708079   Invest Cont    341.0      NaN       NaN      NaN   \n",
       "708080   Invest Cont    740.0      NaN       NaN      NaN   \n",
       "708081   Invest Cont    230.0      NaN       NaN      NaN   \n",
       "708082   Invest Cont    230.0      NaN       NaN      NaN   \n",
       "708083   Invest Cont    745.0      NaN       NaN      NaN   \n",
       "\n",
       "                                        LOCATION Cross Street      LAT  \\\n",
       "0        1100 W  39TH                         PL          NaN  34.0141   \n",
       "1         700 S  HILL                         ST          NaN  34.0459   \n",
       "2         200 E  6TH                          ST          NaN  34.0448   \n",
       "3        5400    CORTEEN                      PL          NaN  34.1685   \n",
       "4       14400    TITUS                        ST          NaN  34.2198   \n",
       "...                                          ...          ...      ...   \n",
       "708079  10200    SANTA MONICA                 BL          NaN  34.0611   \n",
       "708080  12500    BRANFORD                     ST          NaN  34.2466   \n",
       "708081  12800    FILMORE                      ST          NaN  34.2790   \n",
       "708082   6100 S  VERMONT                      AV          NaN  33.9841   \n",
       "708083  14500    HARTLAND                     ST          NaN  34.1951   \n",
       "\n",
       "             LON  \n",
       "0      -118.2978  \n",
       "1      -118.2545  \n",
       "2      -118.2474  \n",
       "3      -118.4019  \n",
       "4      -118.4468  \n",
       "...          ...  \n",
       "708079 -118.4184  \n",
       "708080 -118.4054  \n",
       "708081 -118.4116  \n",
       "708082 -118.2915  \n",
       "708083 -118.4487  \n",
       "\n",
       "[708084 rows x 28 columns]"
      ]
     },
     "execution_count": 56,
     "metadata": {},
     "output_type": "execute_result"
    }
   ],
   "source": [
    "CRIME = pd.read_csv(\"Crime_Data_from_2020_to_Present.csv\")\n",
    "CRIME"
   ]
  },
  {
   "cell_type": "code",
   "execution_count": 57,
   "id": "d47391e0",
   "metadata": {},
   "outputs": [
    {
     "name": "stdout",
     "output_type": "stream",
     "text": [
      "VEHICLE - STOLEN                                           76059\n",
      "BATTERY - SIMPLE ASSAULT                                   55851\n",
      "THEFT OF IDENTITY                                          46061\n",
      "BURGLARY FROM VEHICLE                                      44148\n",
      "VANDALISM - FELONY ($400 & OVER, ALL CHURCH VANDALISMS)    43562\n",
      "                                                           ...  \n",
      "PICKPOCKET, ATTEMPT                                            3\n",
      "GRAND THEFT / AUTO REPAIR                                      2\n",
      "FAILURE TO DISPERSE                                            2\n",
      "DISHONEST EMPLOYEE ATTEMPTED THEFT                             2\n",
      "INCITING A RIOT                                                1\n",
      "Name: Crm Cd Desc, Length: 138, dtype: int64\n"
     ]
    }
   ],
   "source": [
    "CRIME_counts = (CRIME['Crm Cd Desc'].value_counts())\n",
    "print(CRIME_counts)"
   ]
  },
  {
   "cell_type": "markdown",
   "id": "15fc95fb",
   "metadata": {},
   "source": [
    "This allows us to more easily read the values from a given column and streamlines the data analysis process by providing both\n",
    "the value and the amount of times it occurs within the column"
   ]
  },
  {
   "cell_type": "markdown",
   "id": "dff5ed83",
   "metadata": {},
   "source": [
    "The same information can be found by using a pivot table, though the results are presented a bit differently"
   ]
  },
  {
   "cell_type": "code",
   "execution_count": 58,
   "id": "be78ea87",
   "metadata": {},
   "outputs": [
    {
     "name": "stdout",
     "output_type": "stream",
     "text": [
      "Crm Cd Desc\n",
      "ARSON                                                        1959\n",
      "ASSAULT WITH DEADLY WEAPON ON POLICE OFFICER                  897\n",
      "ASSAULT WITH DEADLY WEAPON, AGGRAVATED ASSAULT              40642\n",
      "ATTEMPTED ROBBERY                                            3740\n",
      "BATTERY - SIMPLE ASSAULT                                    55851\n",
      "                                                            ...  \n",
      "VEHICLE, STOLEN - OTHER (MOTORIZED SCOOTERS, BIKES, ETC)     1259\n",
      "VIOLATION OF COURT ORDER                                     4906\n",
      "VIOLATION OF RESTRAINING ORDER                               9024\n",
      "VIOLATION OF TEMPORARY RESTRAINING ORDER                      679\n",
      "WEAPONS POSSESSION/BOMBING                                     28\n",
      "Length: 138, dtype: int64\n"
     ]
    }
   ],
   "source": [
    "CRIME_pivot = CRIME.pivot_table(index = ['Crm Cd Desc'], aggfunc ='size')\n",
    "print(CRIME_pivot)"
   ]
  },
  {
   "cell_type": "markdown",
   "id": "a90c1613",
   "metadata": {},
   "source": [
    "# RECIPE 2: Using matplotlib to visualize a column's data"
   ]
  },
  {
   "cell_type": "markdown",
   "id": "77484f02",
   "metadata": {},
   "source": [
    "We can use visualization libraries like matplotlib to generate clear, highly customizable data visualizatons\n",
    "\n",
    "In this case we will make the library plot the crime and the amount of instances it was committed with the condition that plots a crime if it has more than 3000 documented instances."
   ]
  },
  {
   "cell_type": "code",
   "execution_count": 59,
   "id": "1de58d32",
   "metadata": {},
   "outputs": [
    {
     "data": {
      "text/plain": [
       "<AxesSubplot:>"
      ]
     },
     "execution_count": 59,
     "metadata": {},
     "output_type": "execute_result"
    },
    {
     "data": {
      "image/png": "[encoded data removed]",
      "text/plain": [
       "<Figure size 640x480 with 1 Axes>"
      ]
     },
     "metadata": {},
     "output_type": "display_data"
    }
   ],
   "source": [
    "CRIME_counts[CRIME_counts>3000].plot(kind = \"bar\",color = \"green\")"
   ]
  },
  {
   "cell_type": "markdown",
   "id": "a103ced2",
   "metadata": {},
   "source": [
    "# RECIPE 3: Getting column averages"
   ]
  },
  {
   "cell_type": "markdown",
   "id": "b73fa04f",
   "metadata": {},
   "source": [
    "You can use averages in really unique ways. For example, I will use the df.mean() method to find the average time that a crime\n",
    "was committed."
   ]
  },
  {
   "cell_type": "code",
   "execution_count": 60,
   "id": "6bb4a567",
   "metadata": {},
   "outputs": [
    {
     "data": {
      "text/plain": [
       "1334.079821038182"
      ]
     },
     "execution_count": 60,
     "metadata": {},
     "output_type": "execute_result"
    }
   ],
   "source": [
    "CRIME_AVG_TIME = CRIME[\"TIME OCC\"].mean()\n",
    "CRIME_AVG_TIME"
   ]
  },
  {
   "cell_type": "markdown",
   "id": "d12f3a96",
   "metadata": {},
   "source": [
    "This number translates roughly to 1:34PM, meaning that of all documented times in which crimes were committed, this was the average!"
   ]
  },
  {
   "cell_type": "markdown",
   "id": "a358f147",
   "metadata": {},
   "source": [
    "The same methods can be used to find the median and mode, which each have their distinctive uses"
   ]
  },
  {
   "cell_type": "code",
   "execution_count": 61,
   "id": "0a15e476",
   "metadata": {},
   "outputs": [
    {
     "data": {
      "text/plain": [
       "1415.0"
      ]
     },
     "execution_count": 61,
     "metadata": {},
     "output_type": "execute_result"
    }
   ],
   "source": [
    "CRIME_AVG_MEDIAN = CRIME[\"TIME OCC\"].median()\n",
    "CRIME_AVG_MEDIAN"
   ]
  },
  {
   "cell_type": "code",
   "execution_count": 62,
   "id": "939c9b54",
   "metadata": {},
   "outputs": [
    {
     "data": {
      "text/plain": [
       "0    1200\n",
       "Name: TIME OCC, dtype: int64"
      ]
     },
     "execution_count": 62,
     "metadata": {},
     "output_type": "execute_result"
    }
   ],
   "source": [
    "CRIME_AVG_MODE = CRIME[\"TIME OCC\"].mode()\n",
    "CRIME_AVG_MODE"
   ]
  },
  {
   "cell_type": "markdown",
   "id": "69119ad4",
   "metadata": {},
   "source": [
    "# RECIPE 4: Creating new dataframes from existing dataframe columns and eliminating NaNs"
   ]
  },
  {
   "cell_type": "markdown",
   "id": "b717b406",
   "metadata": {},
   "source": [
    "In some cases, eliminating NaNs in data is important because they would otherwise obscure easily interpretable data."
   ]
  },
  {
   "cell_type": "code",
   "execution_count": 63,
   "id": "b1c5b89a",
   "metadata": {},
   "outputs": [
    {
     "name": "stdout",
     "output_type": "stream",
     "text": [
      "            DR_NO               Date Rptd                DATE OCC  TIME OCC  \\\n",
      "51939   200613424  08/02/2020 12:00:00 AM  08/02/2020 12:00:00 AM      2030   \n",
      "126190  201904032  01/02/2020 12:00:00 AM  01/01/2020 12:00:00 AM      2135   \n",
      "362332  210617136  10/08/2021 12:00:00 AM  10/07/2021 12:00:00 AM      1950   \n",
      "371068  210209196  05/08/2021 12:00:00 AM  05/08/2021 12:00:00 AM       230   \n",
      "488027  220600626  04/27/2022 12:00:00 AM  04/23/2022 12:00:00 AM      2300   \n",
      "535557  221718232  12/25/2022 12:00:00 AM  12/25/2022 12:00:00 AM      1150   \n",
      "583373  221401314  11/10/2022 12:00:00 AM  11/10/2022 12:00:00 AM      2117   \n",
      "\n",
      "        AREA   AREA NAME  Rpt Dist No  Part 1-2  Crm Cd  \\\n",
      "51939      6   Hollywood          657         1     761   \n",
      "126190    19     Mission         1924         1     761   \n",
      "362332     6   Hollywood          659         1     121   \n",
      "371068     2     Rampart          279         1     210   \n",
      "488027     6   Hollywood          646         1     821   \n",
      "535557    17  Devonshire         1797         1     122   \n",
      "583373    14     Pacific         1452         2     910   \n",
      "\n",
      "                                              Crm Cd Desc  ... Status  \\\n",
      "51939                                     BRANDISH WEAPON  ...     AO   \n",
      "126190                                    BRANDISH WEAPON  ...     AA   \n",
      "362332                                     RAPE, FORCIBLE  ...     IC   \n",
      "371068                                            ROBBERY  ...     AO   \n",
      "488027  SODOMY/SEXUAL CONTACT B/W PENIS OF ONE PERS TO...  ...     IC   \n",
      "535557                                    RAPE, ATTEMPTED  ...     AA   \n",
      "583373                                         KIDNAPPING  ...     IC   \n",
      "\n",
      "         Status Desc Crm Cd 1 Crm Cd 2  Crm Cd 3 Crm Cd 4  \\\n",
      "51939    Adult Other    761.0    920.0     930.0    998.0   \n",
      "126190  Adult Arrest    761.0    930.0     997.0    998.0   \n",
      "362332   Invest Cont    121.0    210.0     910.0    998.0   \n",
      "371068   Adult Other    210.0    510.0     910.0    998.0   \n",
      "488027   Invest Cont    230.0    821.0     910.0    998.0   \n",
      "535557  Adult Arrest    122.0    230.0     910.0    998.0   \n",
      "583373   Invest Cont    812.0    860.0     910.0    998.0   \n",
      "\n",
      "                               LOCATION                     Cross Street  \\\n",
      "51939                           WESTERN                          ROMAINE   \n",
      "126190  ASTORIA                      ST  SAN FERNANDO                 RD   \n",
      "362332                        NORMANDIE                       DE LONGPRE   \n",
      "371068                     JAMES M WOOD                            GREEN   \n",
      "488027                            SELMA                       LAS PALMAS   \n",
      "535557  PARTHENIA                    ST                      HAYVENHURST   \n",
      "583373                       WASHINGTON                         SPEEDWAY   \n",
      "\n",
      "            LAT       LON  \n",
      "51939   34.0885 -118.3092  \n",
      "126190  34.2949 -118.4571  \n",
      "362332  34.0966 -118.3005  \n",
      "371068  34.0503 -118.2720  \n",
      "488027  34.0997 -118.3363  \n",
      "535557  34.2285 -118.4939  \n",
      "583373  33.9792 -118.4666  \n",
      "\n",
      "[7 rows x 28 columns]\n"
     ]
    }
   ],
   "source": [
    "CRIME_nonan=CRIME.dropna()\n",
    "print(CRIME_nonan)"
   ]
  },
  {
   "cell_type": "code",
   "execution_count": 64,
   "id": "9e484762",
   "metadata": {},
   "outputs": [],
   "source": [
    "NEW_CRIME = pd.DataFrame()"
   ]
  },
  {
   "cell_type": "code",
   "execution_count": 65,
   "id": "8247efe1",
   "metadata": {},
   "outputs": [],
   "source": [
    "NEW_CRIME['new_column'] = CRIME['TIME OCC']"
   ]
  },
  {
   "cell_type": "code",
   "execution_count": 66,
   "id": "0a7fd6e0",
   "metadata": {},
   "outputs": [
    {
     "data": {
      "text/html": [
       "<div>\n",
       "<style scoped>\n",
       "    .dataframe tbody tr th:only-of-type {\n",
       "        vertical-align: middle;\n",
       "    }\n",
       "\n",
       "    .dataframe tbody tr th {\n",
       "        vertical-align: top;\n",
       "    }\n",
       "\n",
       "    .dataframe thead th {\n",
       "        text-align: right;\n",
       "    }\n",
       "</style>\n",
       "<table border=\"1\" class=\"dataframe\">\n",
       "  <thead>\n",
       "    <tr style=\"text-align: right;\">\n",
       "      <th></th>\n",
       "      <th>new_column</th>\n",
       "    </tr>\n",
       "  </thead>\n",
       "  <tbody>\n",
       "    <tr>\n",
       "      <th>0</th>\n",
       "      <td>2230</td>\n",
       "    </tr>\n",
       "    <tr>\n",
       "      <th>1</th>\n",
       "      <td>330</td>\n",
       "    </tr>\n",
       "    <tr>\n",
       "      <th>2</th>\n",
       "      <td>1200</td>\n",
       "    </tr>\n",
       "    <tr>\n",
       "      <th>3</th>\n",
       "      <td>1730</td>\n",
       "    </tr>\n",
       "    <tr>\n",
       "      <th>4</th>\n",
       "      <td>415</td>\n",
       "    </tr>\n",
       "    <tr>\n",
       "      <th>...</th>\n",
       "      <td>...</td>\n",
       "    </tr>\n",
       "    <tr>\n",
       "      <th>708079</th>\n",
       "      <td>1030</td>\n",
       "    </tr>\n",
       "    <tr>\n",
       "      <th>708080</th>\n",
       "      <td>1800</td>\n",
       "    </tr>\n",
       "    <tr>\n",
       "      <th>708081</th>\n",
       "      <td>1000</td>\n",
       "    </tr>\n",
       "    <tr>\n",
       "      <th>708082</th>\n",
       "      <td>1630</td>\n",
       "    </tr>\n",
       "    <tr>\n",
       "      <th>708083</th>\n",
       "      <td>900</td>\n",
       "    </tr>\n",
       "  </tbody>\n",
       "</table>\n",
       "<p>708084 rows × 1 columns</p>\n",
       "</div>"
      ],
      "text/plain": [
       "        new_column\n",
       "0             2230\n",
       "1              330\n",
       "2             1200\n",
       "3             1730\n",
       "4              415\n",
       "...            ...\n",
       "708079        1030\n",
       "708080        1800\n",
       "708081        1000\n",
       "708082        1630\n",
       "708083         900\n",
       "\n",
       "[708084 rows x 1 columns]"
      ]
     },
     "execution_count": 66,
     "metadata": {},
     "output_type": "execute_result"
    }
   ],
   "source": [
    "NEW_CRIME"
   ]
  },
  {
   "cell_type": "markdown",
   "id": "c12fa477",
   "metadata": {},
   "source": [
    "Notice how there's 708084 rows in this dataframe which was unaffected by the df.nonan() method"
   ]
  },
  {
   "cell_type": "code",
   "execution_count": 67,
   "id": "e6fb1bda",
   "metadata": {},
   "outputs": [
    {
     "data": {
      "text/html": [
       "<div>\n",
       "<style scoped>\n",
       "    .dataframe tbody tr th:only-of-type {\n",
       "        vertical-align: middle;\n",
       "    }\n",
       "\n",
       "    .dataframe tbody tr th {\n",
       "        vertical-align: top;\n",
       "    }\n",
       "\n",
       "    .dataframe thead th {\n",
       "        text-align: right;\n",
       "    }\n",
       "</style>\n",
       "<table border=\"1\" class=\"dataframe\">\n",
       "  <thead>\n",
       "    <tr style=\"text-align: right;\">\n",
       "      <th></th>\n",
       "      <th>new_column</th>\n",
       "    </tr>\n",
       "  </thead>\n",
       "  <tbody>\n",
       "    <tr>\n",
       "      <th>51939</th>\n",
       "      <td>2030</td>\n",
       "    </tr>\n",
       "    <tr>\n",
       "      <th>126190</th>\n",
       "      <td>2135</td>\n",
       "    </tr>\n",
       "    <tr>\n",
       "      <th>362332</th>\n",
       "      <td>1950</td>\n",
       "    </tr>\n",
       "    <tr>\n",
       "      <th>371068</th>\n",
       "      <td>230</td>\n",
       "    </tr>\n",
       "    <tr>\n",
       "      <th>488027</th>\n",
       "      <td>2300</td>\n",
       "    </tr>\n",
       "    <tr>\n",
       "      <th>535557</th>\n",
       "      <td>1150</td>\n",
       "    </tr>\n",
       "    <tr>\n",
       "      <th>583373</th>\n",
       "      <td>2117</td>\n",
       "    </tr>\n",
       "  </tbody>\n",
       "</table>\n",
       "</div>"
      ],
      "text/plain": [
       "        new_column\n",
       "51939         2030\n",
       "126190        2135\n",
       "362332        1950\n",
       "371068         230\n",
       "488027        2300\n",
       "535557        1150\n",
       "583373        2117"
      ]
     },
     "execution_count": 67,
     "metadata": {},
     "output_type": "execute_result"
    }
   ],
   "source": [
    "NEW_CRIME_NONAN = pd.DataFrame()\n",
    "NEW_CRIME_NONAN['new_column'] = CRIME_nonan['TIME OCC']\n",
    "NEW_CRIME_NONAN"
   ]
  },
  {
   "cell_type": "markdown",
   "id": "7a89b01f",
   "metadata": {},
   "source": [
    "While the dataframe that was affected by the df.nonan() method has 7 rows, meaning that theres only 7 columns in the entire dataset that are completely filled"
   ]
  },
  {
   "cell_type": "markdown",
   "id": "27c90373",
   "metadata": {},
   "source": [
    "These methods are for exploration. They allow the data analyst to be led into different perspectives from which they can observe and further work from!"
   ]
  }
 ],
 "metadata": {
  "kernelspec": {
   "display_name": "Python 3 (ipykernel)",
   "language": "python",
   "name": "python3"
  },
  "language_info": {
   "codemirror_mode": {
    "name": "ipython",
    "version": 3
   },
   "file_extension": ".py",
   "mimetype": "text/x-python",
   "name": "python",
   "nbconvert_exporter": "python",
   "pygments_lexer": "ipython3",
   "version": "3.9.13"
  }
 },
 "nbformat": 4,
 "nbformat_minor": 5
}
